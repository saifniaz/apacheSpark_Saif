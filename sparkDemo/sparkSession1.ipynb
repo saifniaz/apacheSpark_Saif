{
 "cells": [
  {
   "attachments": {},
   "cell_type": "markdown",
   "metadata": {},
   "source": [
    "Build Pyspark Session"
   ]
  },
  {
   "cell_type": "code",
   "execution_count": 1,
   "metadata": {},
   "outputs": [],
   "source": [
    "from pyspark.sql import SparkSession "
   ]
  },
  {
   "cell_type": "code",
   "execution_count": 2,
   "metadata": {},
   "outputs": [
    {
     "name": "stderr",
     "output_type": "stream",
     "text": [
      "23/05/25 00:48:16 WARN Utils: Your hostname, codespaces-6fb472 resolves to a loopback address: 127.0.0.1; using 172.16.5.4 instead (on interface eth0)\n",
      "23/05/25 00:48:16 WARN Utils: Set SPARK_LOCAL_IP if you need to bind to another address\n",
      "Setting default log level to \"WARN\".\n",
      "To adjust logging level use sc.setLogLevel(newLevel). For SparkR, use setLogLevel(newLevel).\n",
      "23/05/25 00:48:19 WARN NativeCodeLoader: Unable to load native-hadoop library for your platform... using builtin-java classes where applicable\n"
     ]
    }
   ],
   "source": [
    "spark = SparkSession.builder.appName('SparkSession1').getOrCreate()"
   ]
  },
  {
   "cell_type": "code",
   "execution_count": 3,
   "metadata": {},
   "outputs": [
    {
     "data": {
      "text/html": [
       "\n",
       "            <div>\n",
       "                <p><b>SparkSession - in-memory</b></p>\n",
       "                \n",
       "        <div>\n",
       "            <p><b>SparkContext</b></p>\n",
       "\n",
       "            <p><a href=\"http://370df38d-c96f-408c-ade1-3886b3780139.internal.cloudapp.net:4040\">Spark UI</a></p>\n",
       "\n",
       "            <dl>\n",
       "              <dt>Version</dt>\n",
       "                <dd><code>v3.4.0</code></dd>\n",
       "              <dt>Master</dt>\n",
       "                <dd><code>local[*]</code></dd>\n",
       "              <dt>AppName</dt>\n",
       "                <dd><code>SparkSession1</code></dd>\n",
       "            </dl>\n",
       "        </div>\n",
       "        \n",
       "            </div>\n",
       "        "
      ],
      "text/plain": [
       "<pyspark.sql.session.SparkSession at 0x7f70853dc5e0>"
      ]
     },
     "execution_count": 3,
     "metadata": {},
     "output_type": "execute_result"
    }
   ],
   "source": [
    "spark.getActiveSession()"
   ]
  },
  {
   "attachments": {},
   "cell_type": "markdown",
   "metadata": {},
   "source": [
    "Reading Dataset with dataframe "
   ]
  },
  {
   "cell_type": "code",
   "execution_count": 4,
   "metadata": {},
   "outputs": [
    {
     "name": "stderr",
     "output_type": "stream",
     "text": [
      "                                                                                \r"
     ]
    }
   ],
   "source": [
    "## Default dataframe read options\n",
    "## check schema - takes all value as string\n",
    "df1=spark.read.option('header', 'true').csv('../insurance.csv')"
   ]
  },
  {
   "cell_type": "code",
   "execution_count": 5,
   "metadata": {},
   "outputs": [
    {
     "name": "stdout",
     "output_type": "stream",
     "text": [
      "root\n",
      " |-- age: string (nullable = true)\n",
      " |-- sex: string (nullable = true)\n",
      " |-- bmi: string (nullable = true)\n",
      " |-- children: string (nullable = true)\n",
      " |-- smoker: string (nullable = true)\n",
      " |-- region: string (nullable = true)\n",
      " |-- charges: string (nullable = true)\n",
      "\n"
     ]
    }
   ],
   "source": [
    "## Check Schema\n",
    "df1.printSchema()"
   ]
  },
  {
   "cell_type": "code",
   "execution_count": 6,
   "metadata": {},
   "outputs": [],
   "source": [
    "## Dataframe read option with inferSchema\n",
    "df2 = spark.read.option('header', 'true').csv('../insurance.csv', inferSchema=True)"
   ]
  },
  {
   "cell_type": "code",
   "execution_count": 7,
   "metadata": {},
   "outputs": [
    {
     "name": "stdout",
     "output_type": "stream",
     "text": [
      "root\n",
      " |-- age: integer (nullable = true)\n",
      " |-- sex: string (nullable = true)\n",
      " |-- bmi: double (nullable = true)\n",
      " |-- children: integer (nullable = true)\n",
      " |-- smoker: string (nullable = true)\n",
      " |-- region: string (nullable = true)\n",
      " |-- charges: double (nullable = true)\n",
      "\n"
     ]
    }
   ],
   "source": [
    "df2.printSchema()"
   ]
  },
  {
   "cell_type": "code",
   "execution_count": 8,
   "metadata": {},
   "outputs": [],
   "source": [
    "## Include header and InferSchema together\n",
    "df3=spark.read.csv('../insurance.csv', header=True, inferSchema=True)"
   ]
  },
  {
   "cell_type": "code",
   "execution_count": 9,
   "metadata": {},
   "outputs": [
    {
     "name": "stdout",
     "output_type": "stream",
     "text": [
      "root\n",
      " |-- age: integer (nullable = true)\n",
      " |-- sex: string (nullable = true)\n",
      " |-- bmi: double (nullable = true)\n",
      " |-- children: integer (nullable = true)\n",
      " |-- smoker: string (nullable = true)\n",
      " |-- region: string (nullable = true)\n",
      " |-- charges: double (nullable = true)\n",
      "\n"
     ]
    }
   ],
   "source": [
    "df3.printSchema()"
   ]
  },
  {
   "cell_type": "code",
   "execution_count": 10,
   "metadata": {},
   "outputs": [
    {
     "data": {
      "text/plain": [
       "pyspark.sql.dataframe.DataFrame"
      ]
     },
     "execution_count": 10,
     "metadata": {},
     "output_type": "execute_result"
    }
   ],
   "source": [
    "type(df3)"
   ]
  },
  {
   "attachments": {},
   "cell_type": "markdown",
   "metadata": {},
   "source": [
    "Note: Dataframe is a data structures inside which you can perform various kind of operation"
   ]
  },
  {
   "cell_type": "code",
   "execution_count": 11,
   "metadata": {},
   "outputs": [
    {
     "data": {
      "text/plain": [
       "['age', 'sex', 'bmi', 'children', 'smoker', 'region', 'charges']"
      ]
     },
     "execution_count": 11,
     "metadata": {},
     "output_type": "execute_result"
    }
   ],
   "source": [
    "df3.columns"
   ]
  },
  {
   "cell_type": "code",
   "execution_count": 12,
   "metadata": {},
   "outputs": [
    {
     "data": {
      "text/plain": [
       "[Row(age=19, sex='female', bmi=27.9, children=0, smoker='yes', region='southwest', charges=16884.924),\n",
       " Row(age=18, sex='male', bmi=33.77, children=1, smoker='no', region='southeast', charges=1725.5523),\n",
       " Row(age=28, sex='male', bmi=33.0, children=3, smoker='no', region='southeast', charges=4449.462)]"
      ]
     },
     "execution_count": 12,
     "metadata": {},
     "output_type": "execute_result"
    }
   ],
   "source": [
    "df3.head(3)"
   ]
  },
  {
   "cell_type": "code",
   "execution_count": 13,
   "metadata": {},
   "outputs": [
    {
     "data": {
      "text/plain": [
       "[Row(age=61, sex='female', bmi=29.07, children=0, smoker='yes', region='northwest', charges=29141.3603)]"
      ]
     },
     "execution_count": 13,
     "metadata": {},
     "output_type": "execute_result"
    }
   ],
   "source": [
    "df3.tail(1)"
   ]
  },
  {
   "cell_type": "code",
   "execution_count": 14,
   "metadata": {},
   "outputs": [
    {
     "name": "stdout",
     "output_type": "stream",
     "text": [
      "+---+\n",
      "|age|\n",
      "+---+\n",
      "| 19|\n",
      "| 18|\n",
      "| 28|\n",
      "| 33|\n",
      "| 32|\n",
      "| 31|\n",
      "| 46|\n",
      "| 37|\n",
      "| 37|\n",
      "| 60|\n",
      "| 25|\n",
      "| 62|\n",
      "| 23|\n",
      "| 56|\n",
      "| 27|\n",
      "| 19|\n",
      "| 52|\n",
      "| 23|\n",
      "| 56|\n",
      "| 30|\n",
      "+---+\n",
      "only showing top 20 rows\n",
      "\n"
     ]
    }
   ],
   "source": [
    "## Select specific Columns\n",
    "df3.select('age').show()"
   ]
  },
  {
   "cell_type": "code",
   "execution_count": 15,
   "metadata": {},
   "outputs": [
    {
     "name": "stdout",
     "output_type": "stream",
     "text": [
      "+---+------+\n",
      "|age|   sex|\n",
      "+---+------+\n",
      "| 19|female|\n",
      "| 18|  male|\n",
      "| 28|  male|\n",
      "| 33|  male|\n",
      "| 32|  male|\n",
      "| 31|female|\n",
      "| 46|female|\n",
      "| 37|female|\n",
      "| 37|  male|\n",
      "| 60|female|\n",
      "| 25|  male|\n",
      "| 62|female|\n",
      "| 23|  male|\n",
      "| 56|female|\n",
      "| 27|  male|\n",
      "| 19|  male|\n",
      "| 52|female|\n",
      "| 23|  male|\n",
      "| 56|  male|\n",
      "| 30|  male|\n",
      "+---+------+\n",
      "only showing top 20 rows\n",
      "\n"
     ]
    }
   ],
   "source": [
    "df3.select(['age', 'sex']).show()"
   ]
  },
  {
   "cell_type": "code",
   "execution_count": 16,
   "metadata": {},
   "outputs": [
    {
     "name": "stdout",
     "output_type": "stream",
     "text": [
      "+---+------+\n",
      "|age|   sex|\n",
      "+---+------+\n",
      "| 19|female|\n",
      "| 18|  male|\n",
      "| 28|  male|\n",
      "| 33|  male|\n",
      "| 32|  male|\n",
      "| 31|female|\n",
      "| 46|female|\n",
      "| 37|female|\n",
      "| 37|  male|\n",
      "| 60|female|\n",
      "| 25|  male|\n",
      "| 62|female|\n",
      "| 23|  male|\n",
      "| 56|female|\n",
      "| 27|  male|\n",
      "| 19|  male|\n",
      "| 52|female|\n",
      "| 23|  male|\n",
      "| 56|  male|\n",
      "| 30|  male|\n",
      "+---+------+\n",
      "only showing top 20 rows\n",
      "\n"
     ]
    }
   ],
   "source": [
    "df3['age', 'sex'].show()"
   ]
  },
  {
   "attachments": {},
   "cell_type": "markdown",
   "metadata": {},
   "source": [
    "Check DataTypes"
   ]
  },
  {
   "cell_type": "code",
   "execution_count": 17,
   "metadata": {},
   "outputs": [
    {
     "data": {
      "text/plain": [
       "[('age', 'int'),\n",
       " ('sex', 'string'),\n",
       " ('bmi', 'double'),\n",
       " ('children', 'int'),\n",
       " ('smoker', 'string'),\n",
       " ('region', 'string'),\n",
       " ('charges', 'double')]"
      ]
     },
     "execution_count": 17,
     "metadata": {},
     "output_type": "execute_result"
    }
   ],
   "source": [
    "df3.dtypes"
   ]
  },
  {
   "attachments": {},
   "cell_type": "markdown",
   "metadata": {},
   "source": [
    "Describe function"
   ]
  },
  {
   "cell_type": "code",
   "execution_count": 18,
   "metadata": {},
   "outputs": [
    {
     "data": {
      "text/plain": [
       "DataFrame[summary: string, age: string, sex: string, bmi: string, children: string, smoker: string, region: string, charges: string]"
      ]
     },
     "execution_count": 18,
     "metadata": {},
     "output_type": "execute_result"
    }
   ],
   "source": [
    "df3.describe()"
   ]
  },
  {
   "cell_type": "code",
   "execution_count": 19,
   "metadata": {},
   "outputs": [
    {
     "name": "stderr",
     "output_type": "stream",
     "text": [
      "23/05/25 00:49:27 WARN package: Truncated the string representation of a plan since it was too large. This behavior can be adjusted by setting 'spark.sql.debug.maxToStringFields'.\n",
      "[Stage 10:>                                                         (0 + 1) / 1]\r"
     ]
    },
    {
     "name": "stdout",
     "output_type": "stream",
     "text": [
      "+-------+------------------+------+------------------+-----------------+------+---------+------------------+\n",
      "|summary|               age|   sex|               bmi|         children|smoker|   region|           charges|\n",
      "+-------+------------------+------+------------------+-----------------+------+---------+------------------+\n",
      "|  count|              1338|  1338|              1338|             1338|  1338|     1338|              1338|\n",
      "|   mean| 39.20702541106129|  null|30.663396860986538|  1.0949177877429|  null|     null|13270.422265141257|\n",
      "| stddev|14.049960379216147|  null| 6.098186911679012|1.205492739781914|  null|     null|12110.011236693992|\n",
      "|    min|                18|female|             15.96|                0|    no|northeast|         1121.8739|\n",
      "|    max|                64|  male|             53.13|                5|   yes|southwest|       63770.42801|\n",
      "+-------+------------------+------+------------------+-----------------+------+---------+------------------+\n",
      "\n"
     ]
    },
    {
     "name": "stderr",
     "output_type": "stream",
     "text": [
      "                                                                                \r"
     ]
    }
   ],
   "source": [
    "df3.describe().show()"
   ]
  },
  {
   "attachments": {},
   "cell_type": "markdown",
   "metadata": {},
   "source": [
    "Manipulating Columns in Data Frame"
   ]
  },
  {
   "cell_type": "code",
   "execution_count": 27,
   "metadata": {},
   "outputs": [],
   "source": [
    "## Add Column\n",
    "df4 = df3.withColumn('age in 5 year', df3['age']+5)"
   ]
  },
  {
   "cell_type": "code",
   "execution_count": 25,
   "metadata": {},
   "outputs": [
    {
     "name": "stdout",
     "output_type": "stream",
     "text": [
      "+---+------+------+--------+------+---------+-----------+\n",
      "|age|   sex|   bmi|children|smoker|   region|    charges|\n",
      "+---+------+------+--------+------+---------+-----------+\n",
      "| 19|female|  27.9|       0|   yes|southwest|  16884.924|\n",
      "| 18|  male| 33.77|       1|    no|southeast|  1725.5523|\n",
      "| 28|  male|  33.0|       3|    no|southeast|   4449.462|\n",
      "| 33|  male|22.705|       0|    no|northwest|21984.47061|\n",
      "| 32|  male| 28.88|       0|    no|northwest|  3866.8552|\n",
      "| 31|female| 25.74|       0|    no|southeast|  3756.6216|\n",
      "| 46|female| 33.44|       1|    no|southeast|  8240.5896|\n",
      "| 37|female| 27.74|       3|    no|northwest|  7281.5056|\n",
      "| 37|  male| 29.83|       2|    no|northeast|  6406.4107|\n",
      "| 60|female| 25.84|       0|    no|northwest|28923.13692|\n",
      "| 25|  male| 26.22|       0|    no|northeast|  2721.3208|\n",
      "| 62|female| 26.29|       0|   yes|southeast| 27808.7251|\n",
      "| 23|  male|  34.4|       0|    no|southwest|   1826.843|\n",
      "| 56|female| 39.82|       0|    no|southeast| 11090.7178|\n",
      "| 27|  male| 42.13|       0|   yes|southeast| 39611.7577|\n",
      "| 19|  male|  24.6|       1|    no|southwest|   1837.237|\n",
      "| 52|female| 30.78|       1|    no|northeast| 10797.3362|\n",
      "| 23|  male|23.845|       0|    no|northeast| 2395.17155|\n",
      "| 56|  male|  40.3|       0|    no|southwest|  10602.385|\n",
      "| 30|  male|  35.3|       0|   yes|southwest|  36837.467|\n",
      "+---+------+------+--------+------+---------+-----------+\n",
      "only showing top 20 rows\n",
      "\n"
     ]
    }
   ],
   "source": [
    "df3.show()"
   ]
  },
  {
   "cell_type": "code",
   "execution_count": 26,
   "metadata": {},
   "outputs": [
    {
     "name": "stdout",
     "output_type": "stream",
     "text": [
      "+---+------+------+--------+------+---------+-----------+-------------+\n",
      "|age|   sex|   bmi|children|smoker|   region|    charges|age in 5 year|\n",
      "+---+------+------+--------+------+---------+-----------+-------------+\n",
      "| 19|female|  27.9|       0|   yes|southwest|  16884.924|           24|\n",
      "| 18|  male| 33.77|       1|    no|southeast|  1725.5523|           23|\n",
      "| 28|  male|  33.0|       3|    no|southeast|   4449.462|           33|\n",
      "| 33|  male|22.705|       0|    no|northwest|21984.47061|           38|\n",
      "| 32|  male| 28.88|       0|    no|northwest|  3866.8552|           37|\n",
      "| 31|female| 25.74|       0|    no|southeast|  3756.6216|           36|\n",
      "| 46|female| 33.44|       1|    no|southeast|  8240.5896|           51|\n",
      "| 37|female| 27.74|       3|    no|northwest|  7281.5056|           42|\n",
      "| 37|  male| 29.83|       2|    no|northeast|  6406.4107|           42|\n",
      "| 60|female| 25.84|       0|    no|northwest|28923.13692|           65|\n",
      "| 25|  male| 26.22|       0|    no|northeast|  2721.3208|           30|\n",
      "| 62|female| 26.29|       0|   yes|southeast| 27808.7251|           67|\n",
      "| 23|  male|  34.4|       0|    no|southwest|   1826.843|           28|\n",
      "| 56|female| 39.82|       0|    no|southeast| 11090.7178|           61|\n",
      "| 27|  male| 42.13|       0|   yes|southeast| 39611.7577|           32|\n",
      "| 19|  male|  24.6|       1|    no|southwest|   1837.237|           24|\n",
      "| 52|female| 30.78|       1|    no|northeast| 10797.3362|           57|\n",
      "| 23|  male|23.845|       0|    no|northeast| 2395.17155|           28|\n",
      "| 56|  male|  40.3|       0|    no|southwest|  10602.385|           61|\n",
      "| 30|  male|  35.3|       0|   yes|southwest|  36837.467|           35|\n",
      "+---+------+------+--------+------+---------+-----------+-------------+\n",
      "only showing top 20 rows\n",
      "\n"
     ]
    }
   ],
   "source": [
    "df4.show()"
   ]
  },
  {
   "cell_type": "code",
   "execution_count": 28,
   "metadata": {},
   "outputs": [],
   "source": [
    "## Drop Column"
   ]
  },
  {
   "cell_type": "code",
   "execution_count": 31,
   "metadata": {},
   "outputs": [],
   "source": [
    "df5 = df4.drop('age in 5 year')"
   ]
  },
  {
   "cell_type": "code",
   "execution_count": 32,
   "metadata": {},
   "outputs": [
    {
     "name": "stdout",
     "output_type": "stream",
     "text": [
      "+---+------+------+--------+------+---------+-----------+\n",
      "|age|   sex|   bmi|children|smoker|   region|    charges|\n",
      "+---+------+------+--------+------+---------+-----------+\n",
      "| 19|female|  27.9|       0|   yes|southwest|  16884.924|\n",
      "| 18|  male| 33.77|       1|    no|southeast|  1725.5523|\n",
      "| 28|  male|  33.0|       3|    no|southeast|   4449.462|\n",
      "| 33|  male|22.705|       0|    no|northwest|21984.47061|\n",
      "| 32|  male| 28.88|       0|    no|northwest|  3866.8552|\n",
      "| 31|female| 25.74|       0|    no|southeast|  3756.6216|\n",
      "| 46|female| 33.44|       1|    no|southeast|  8240.5896|\n",
      "| 37|female| 27.74|       3|    no|northwest|  7281.5056|\n",
      "| 37|  male| 29.83|       2|    no|northeast|  6406.4107|\n",
      "| 60|female| 25.84|       0|    no|northwest|28923.13692|\n",
      "| 25|  male| 26.22|       0|    no|northeast|  2721.3208|\n",
      "| 62|female| 26.29|       0|   yes|southeast| 27808.7251|\n",
      "| 23|  male|  34.4|       0|    no|southwest|   1826.843|\n",
      "| 56|female| 39.82|       0|    no|southeast| 11090.7178|\n",
      "| 27|  male| 42.13|       0|   yes|southeast| 39611.7577|\n",
      "| 19|  male|  24.6|       1|    no|southwest|   1837.237|\n",
      "| 52|female| 30.78|       1|    no|northeast| 10797.3362|\n",
      "| 23|  male|23.845|       0|    no|northeast| 2395.17155|\n",
      "| 56|  male|  40.3|       0|    no|southwest|  10602.385|\n",
      "| 30|  male|  35.3|       0|   yes|southwest|  36837.467|\n",
      "+---+------+------+--------+------+---------+-----------+\n",
      "only showing top 20 rows\n",
      "\n"
     ]
    }
   ],
   "source": [
    "df5.show()"
   ]
  },
  {
   "cell_type": "code",
   "execution_count": 33,
   "metadata": {},
   "outputs": [
    {
     "name": "stdout",
     "output_type": "stream",
     "text": [
      "+---+------+------+---------+------+---------+-----------+\n",
      "|age|   sex|   bmi|dependent|smoker|   region|    charges|\n",
      "+---+------+------+---------+------+---------+-----------+\n",
      "| 19|female|  27.9|        0|   yes|southwest|  16884.924|\n",
      "| 18|  male| 33.77|        1|    no|southeast|  1725.5523|\n",
      "| 28|  male|  33.0|        3|    no|southeast|   4449.462|\n",
      "| 33|  male|22.705|        0|    no|northwest|21984.47061|\n",
      "| 32|  male| 28.88|        0|    no|northwest|  3866.8552|\n",
      "| 31|female| 25.74|        0|    no|southeast|  3756.6216|\n",
      "| 46|female| 33.44|        1|    no|southeast|  8240.5896|\n",
      "| 37|female| 27.74|        3|    no|northwest|  7281.5056|\n",
      "| 37|  male| 29.83|        2|    no|northeast|  6406.4107|\n",
      "| 60|female| 25.84|        0|    no|northwest|28923.13692|\n",
      "| 25|  male| 26.22|        0|    no|northeast|  2721.3208|\n",
      "| 62|female| 26.29|        0|   yes|southeast| 27808.7251|\n",
      "| 23|  male|  34.4|        0|    no|southwest|   1826.843|\n",
      "| 56|female| 39.82|        0|    no|southeast| 11090.7178|\n",
      "| 27|  male| 42.13|        0|   yes|southeast| 39611.7577|\n",
      "| 19|  male|  24.6|        1|    no|southwest|   1837.237|\n",
      "| 52|female| 30.78|        1|    no|northeast| 10797.3362|\n",
      "| 23|  male|23.845|        0|    no|northeast| 2395.17155|\n",
      "| 56|  male|  40.3|        0|    no|southwest|  10602.385|\n",
      "| 30|  male|  35.3|        0|   yes|southwest|  36837.467|\n",
      "+---+------+------+---------+------+---------+-----------+\n",
      "only showing top 20 rows\n",
      "\n"
     ]
    }
   ],
   "source": [
    "## Rename columns\n",
    "df5.withColumnRenamed('children','dependent').show()"
   ]
  }
 ],
 "metadata": {
  "kernelspec": {
   "display_name": "Python 3",
   "language": "python",
   "name": "python3"
  },
  "language_info": {
   "codemirror_mode": {
    "name": "ipython",
    "version": 3
   },
   "file_extension": ".py",
   "mimetype": "text/x-python",
   "name": "python",
   "nbconvert_exporter": "python",
   "pygments_lexer": "ipython3",
   "version": "3.10.4"
  },
  "orig_nbformat": 4
 },
 "nbformat": 4,
 "nbformat_minor": 2
}
